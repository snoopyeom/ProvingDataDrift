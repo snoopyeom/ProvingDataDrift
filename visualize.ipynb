{
 "cells": [
  {
   "cell_type": "markdown",
   "metadata": {},
   "source": [
    "# Visualizing Data Distribution with PCA, t-SNE, and UMAP\n",
    "This notebook loads the dataset `MSL_train.npy` and visualizes it using PCA, t-SNE, and UMAP."
   ]
  },
  {
   "cell_type": "code",
   "metadata": {},
   "source": [
    "import numpy as np\n",
    "from sklearn.decomposition import PCA\n",
    "from sklearn.manifold import TSNE\n",
    "import umap.umap_ as umap\n",
    "import matplotlib.pyplot as plt\n",
    "from sklearn.preprocessing import StandardScaler\n",
    "\n",
    "# Load the dataset using a relative path\n",
    "data = np.load('MSL_train.npy')\n",
    "\n",
    "# Standardize features before dimensionality reduction\n",
    "scaler = StandardScaler()\n",
    "X_scaled = scaler.fit_transform(data)\n",
    "\n",
    "# 1. PCA\n",
    "pca = PCA(n_components=2, random_state=42)\n",
    "X_pca = pca.fit_transform(X_scaled)\n",
    "\n",
    "# 2. t-SNE\n",
    "tsne = TSNE(n_components=2, random_state=42, init='random', learning_rate='auto')\n",
    "X_tsne = tsne.fit_transform(X_scaled)\n",
    "\n",
    "# 3. UMAP\n",
    "umap_model = umap.UMAP(n_components=2, random_state=42)\n",
    "X_umap = umap_model.fit_transform(X_scaled)\n",
    "\n",
    "fig, axes = plt.subplots(1, 3, figsize=(18, 5))\n",
    "axes[0].scatter(X_pca[:, 0], X_pca[:, 1], s=2, alpha=0.7)\n",
    "axes[0].set_title('PCA')\n",
    "axes[1].scatter(X_tsne[:, 0], X_tsne[:, 1], s=2, alpha=0.7)\n",
    "axes[1].set_title('t-SNE')\n",
    "axes[2].scatter(X_umap[:, 0], X_umap[:, 1], s=2, alpha=0.7)\n",
    "axes[2].set_title('UMAP')\n",
    "plt.tight_layout()\n",
    "plt.show()\n"
   ]
  },
  {
   "cell_type": "markdown",
   "metadata": {},
   "source": [
    "*Ensure that the required packages (`numpy`, `scikit-learn`, `umap-learn`, `matplotlib`) are installed in your Python environment before running the notebook.*"
   ]
  }
 ],
 "metadata": {
  "kernelspec": {
   "name": "python3",
   "display_name": "Python 3"
  },
  "language_info": {
   "name": "python",
   "pygments_lexer": "ipython3"
  }
 },
 "nbformat": 4,
 "nbformat_minor": 5
}
