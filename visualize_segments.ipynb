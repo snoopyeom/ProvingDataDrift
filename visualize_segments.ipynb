{
 "cells": [
  {
   "cell_type": "markdown",
   "metadata": {},
   "source": [
    "# Visualizing Data Segments with PCA\n",
    "This notebook divides the dataset `MSL_train.npy` into five chronological sections and visualizes each section in a different color using PCA."
   ]
  },
  {
   "cell_type": "code",
   "metadata": {},
   "source": [
    "import numpy as np\n",
    "from sklearn.decomposition import PCA\n",
    "from sklearn.preprocessing import StandardScaler\n",
    "import matplotlib.pyplot as plt\n",
    "\n",
    "# Load data\n",
    "data = np.load('MSL_train.npy')\n",
    "\n",
    "# Standardize features\n",
    "scaler = StandardScaler()\n",
    "data_scaled = scaler.fit_transform(data)\n",
    "\n",
    "# Apply PCA to reduce dimensions to 2 for visualization\n",
    "pca = PCA(n_components=2, random_state=42)\n",
    "data_pca = pca.fit_transform(data_scaled)\n",
    "\n",
    "n_sections = 5\n",
    "section_len = len(data_pca) // n_sections\n",
    "colors = plt.cm.viridis(np.linspace(0, 1, n_sections))\n",
    "plt.figure(figsize=(8, 6))\n",
    "for i in range(n_sections):\n",
    "    start = i * section_len\n",
    "    end = len(data_pca) if i == n_sections - 1 else (i + 1) * section_len\n",
    "    plt.scatter(\n",
    "        data_pca[start:end, 0],\n",
    "        data_pca[start:end, 1],\n",
    "        c=[colors[i]],\n",
    "        s=2,\n",
    "        alpha=0.7,\n",
    "        label=f'Section {i + 1}'\n",
    "    )\n",
    "plt.legend()\n",
    "plt.title('Data distribution by time sections (PCA)')\n",
    "plt.xlabel('PC1')\n",
    "plt.ylabel('PC2')\n",
    "plt.tight_layout()\n",
    "plt.show()\n"
   ]
  },
  {
   "cell_type": "markdown",
   "metadata": {},
   "source": [
    "*Ensure that `numpy`, `scikit-learn`, and `matplotlib` are installed before running the notebook.*"
   ]
  }
 ],
 "metadata": {
  "kernelspec": {
   "name": "python3",
   "display_name": "Python 3"
  },
  "language_info": {
   "name": "python",
   "pygments_lexer": "ipython3"
  }
 },
 "nbformat": 4,
 "nbformat_minor": 5
}
